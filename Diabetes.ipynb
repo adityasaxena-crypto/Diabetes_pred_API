{
  "cells": [
    {
      "cell_type": "code",
      "execution_count": 1,
      "metadata": {
        "id": "XouUNfk7Iadr"
      },
      "outputs": [],
      "source": [
        "import pandas as pd\n",
        "import numpy as np"
      ]
    },
    {
      "cell_type": "code",
      "execution_count": 2,
      "metadata": {
        "colab": {
          "base_uri": "https://localhost:8080/",
          "height": 206
        },
        "id": "2p3g_S_MKJL8",
        "outputId": "30f7a91a-4d75-4d8d-98ce-64eede32f904"
      },
      "outputs": [
        {
          "data": {
            "text/html": [
              "<div>\n",
              "<style scoped>\n",
              "    .dataframe tbody tr th:only-of-type {\n",
              "        vertical-align: middle;\n",
              "    }\n",
              "\n",
              "    .dataframe tbody tr th {\n",
              "        vertical-align: top;\n",
              "    }\n",
              "\n",
              "    .dataframe thead th {\n",
              "        text-align: right;\n",
              "    }\n",
              "</style>\n",
              "<table border=\"1\" class=\"dataframe\">\n",
              "  <thead>\n",
              "    <tr style=\"text-align: right;\">\n",
              "      <th></th>\n",
              "      <th>Pregnancies</th>\n",
              "      <th>Glucose</th>\n",
              "      <th>BloodPressure</th>\n",
              "      <th>SkinThickness</th>\n",
              "      <th>Insulin</th>\n",
              "      <th>BMI</th>\n",
              "      <th>DiabetesPedigreeFunction</th>\n",
              "      <th>Age</th>\n",
              "      <th>Outcome</th>\n",
              "    </tr>\n",
              "  </thead>\n",
              "  <tbody>\n",
              "    <tr>\n",
              "      <th>0</th>\n",
              "      <td>6</td>\n",
              "      <td>148</td>\n",
              "      <td>72</td>\n",
              "      <td>35</td>\n",
              "      <td>0</td>\n",
              "      <td>33.6</td>\n",
              "      <td>0.627</td>\n",
              "      <td>50</td>\n",
              "      <td>1</td>\n",
              "    </tr>\n",
              "    <tr>\n",
              "      <th>1</th>\n",
              "      <td>1</td>\n",
              "      <td>85</td>\n",
              "      <td>66</td>\n",
              "      <td>29</td>\n",
              "      <td>0</td>\n",
              "      <td>26.6</td>\n",
              "      <td>0.351</td>\n",
              "      <td>31</td>\n",
              "      <td>0</td>\n",
              "    </tr>\n",
              "    <tr>\n",
              "      <th>2</th>\n",
              "      <td>8</td>\n",
              "      <td>183</td>\n",
              "      <td>64</td>\n",
              "      <td>0</td>\n",
              "      <td>0</td>\n",
              "      <td>23.3</td>\n",
              "      <td>0.672</td>\n",
              "      <td>32</td>\n",
              "      <td>1</td>\n",
              "    </tr>\n",
              "    <tr>\n",
              "      <th>3</th>\n",
              "      <td>1</td>\n",
              "      <td>89</td>\n",
              "      <td>66</td>\n",
              "      <td>23</td>\n",
              "      <td>94</td>\n",
              "      <td>28.1</td>\n",
              "      <td>0.167</td>\n",
              "      <td>21</td>\n",
              "      <td>0</td>\n",
              "    </tr>\n",
              "    <tr>\n",
              "      <th>4</th>\n",
              "      <td>0</td>\n",
              "      <td>137</td>\n",
              "      <td>40</td>\n",
              "      <td>35</td>\n",
              "      <td>168</td>\n",
              "      <td>43.1</td>\n",
              "      <td>2.288</td>\n",
              "      <td>33</td>\n",
              "      <td>1</td>\n",
              "    </tr>\n",
              "  </tbody>\n",
              "</table>\n",
              "</div>"
            ],
            "text/plain": [
              "   Pregnancies  Glucose  BloodPressure  SkinThickness  Insulin   BMI  \\\n",
              "0            6      148             72             35        0  33.6   \n",
              "1            1       85             66             29        0  26.6   \n",
              "2            8      183             64              0        0  23.3   \n",
              "3            1       89             66             23       94  28.1   \n",
              "4            0      137             40             35      168  43.1   \n",
              "\n",
              "   DiabetesPedigreeFunction  Age  Outcome  \n",
              "0                     0.627   50        1  \n",
              "1                     0.351   31        0  \n",
              "2                     0.672   32        1  \n",
              "3                     0.167   21        0  \n",
              "4                     2.288   33        1  "
            ]
          },
          "execution_count": 2,
          "metadata": {},
          "output_type": "execute_result"
        }
      ],
      "source": [
        "df = pd.read_csv(\"diabetes.csv\")\n",
        "df.head()"
      ]
    },
    {
      "cell_type": "code",
      "execution_count": 3,
      "metadata": {
        "colab": {
          "base_uri": "https://localhost:8080/"
        },
        "id": "fe52iNMxKko9",
        "outputId": "21707ab7-2b04-45f6-a5f6-bb0c3c1d20fe"
      },
      "outputs": [
        {
          "data": {
            "text/plain": [
              "(768, 9)"
            ]
          },
          "execution_count": 3,
          "metadata": {},
          "output_type": "execute_result"
        }
      ],
      "source": [
        "df.shape"
      ]
    },
    {
      "cell_type": "code",
      "execution_count": 4,
      "metadata": {
        "colab": {
          "base_uri": "https://localhost:8080/"
        },
        "id": "jbxUVpA9Kq7E",
        "outputId": "f4599676-a6d7-4d79-8a6e-f18f37f416b3"
      },
      "outputs": [
        {
          "data": {
            "text/plain": [
              "Pregnancies                 0\n",
              "Glucose                     0\n",
              "BloodPressure               0\n",
              "SkinThickness               0\n",
              "Insulin                     0\n",
              "BMI                         0\n",
              "DiabetesPedigreeFunction    0\n",
              "Age                         0\n",
              "Outcome                     0\n",
              "dtype: int64"
            ]
          },
          "execution_count": 4,
          "metadata": {},
          "output_type": "execute_result"
        }
      ],
      "source": [
        "#data pre-processing\n",
        "df.isnull().sum()"
      ]
    },
    {
      "cell_type": "code",
      "execution_count": 7,
      "metadata": {
        "id": "rA31Omb6K3xF"
      },
      "outputs": [],
      "source": [
        "X = df.drop(\"Outcome\",axis=1)\n",
        "y = df['Outcome']\n"
      ]
    },
    {
      "cell_type": "code",
      "execution_count": 6,
      "metadata": {
        "id": "i777H7hNLRn_"
      },
      "outputs": [],
      "source": [
        "from sklearn.model_selection import train_test_split\n",
        "X_train,X_test,y_train,y_test = train_test_split(X,y,test_size=0.3,random_state=1)"
      ]
    },
    {
      "cell_type": "code",
      "execution_count": 8,
      "metadata": {
        "id": "89l6Z9VaL0H7"
      },
      "outputs": [],
      "source": [
        "#Importing all the models and finding which one is better\n",
        "from sklearn.naive_bayes import GaussianNB\n",
        "gnb = GaussianNB()"
      ]
    },
    {
      "cell_type": "code",
      "execution_count": 9,
      "metadata": {
        "colab": {
          "base_uri": "https://localhost:8080/"
        },
        "id": "bnNjbquWMNTV",
        "outputId": "aaef926e-a919-41ce-9eac-a5f71ba2bd1c"
      },
      "outputs": [
        {
          "data": {
            "text/plain": [
              "GaussianNB()"
            ]
          },
          "execution_count": 9,
          "metadata": {},
          "output_type": "execute_result"
        }
      ],
      "source": [
        "gnb.fit(X_train,y_train)"
      ]
    },
    {
      "cell_type": "code",
      "execution_count": 10,
      "metadata": {
        "colab": {
          "base_uri": "https://localhost:8080/"
        },
        "id": "NJbARPDTMRM_",
        "outputId": "eaf4f5c9-92ba-44c8-db10-2f931b46cefa"
      },
      "outputs": [
        {
          "data": {
            "text/plain": [
              "0.7835497835497836"
            ]
          },
          "execution_count": 10,
          "metadata": {},
          "output_type": "execute_result"
        }
      ],
      "source": [
        "gnb.score(X_test,y_test)"
      ]
    },
    {
      "cell_type": "code",
      "execution_count": 12,
      "metadata": {
        "colab": {
          "base_uri": "https://localhost:8080/"
        },
        "id": "FDV4fn4LMxgF",
        "outputId": "1a2e90c2-a7d5-4d86-cbcd-7828ae2ef714"
      },
      "outputs": [
        {
          "data": {
            "text/plain": [
              "LogisticRegression()"
            ]
          },
          "execution_count": 12,
          "metadata": {},
          "output_type": "execute_result"
        }
      ],
      "source": [
        "from sklearn.linear_model import LogisticRegression\n",
        "log_model = LogisticRegression()\n",
        "log_model.fit(X_train,y_train)\n"
      ]
    },
    {
      "cell_type": "code",
      "execution_count": 13,
      "metadata": {
        "colab": {
          "base_uri": "https://localhost:8080/"
        },
        "id": "yF7oCWZ9NElZ",
        "outputId": "1990d8ad-bf4e-4810-f1b5-9b4793272b19"
      },
      "outputs": [
        {
          "data": {
            "text/plain": [
              "0.7835497835497836"
            ]
          },
          "execution_count": 13,
          "metadata": {},
          "output_type": "execute_result"
        }
      ],
      "source": [
        "log_model.score(X_test,y_test)"
      ]
    },
    {
      "cell_type": "code",
      "execution_count": 14,
      "metadata": {
        "colab": {
          "base_uri": "https://localhost:8080/"
        },
        "id": "Y8QFYhdqNOMB",
        "outputId": "27c9f4c5-c5bf-4553-e49f-98a89c91313a"
      },
      "outputs": [
        {
          "ename": "ModuleNotFoundError",
          "evalue": "No module named 'xgboost'",
          "output_type": "error",
          "traceback": [
            "\u001b[1;31m---------------------------------------------------------------------------\u001b[0m",
            "\u001b[1;31mModuleNotFoundError\u001b[0m                       Traceback (most recent call last)",
            "\u001b[1;32m<ipython-input-14-fe4b697314b3>\u001b[0m in \u001b[0;36m<module>\u001b[1;34m\u001b[0m\n\u001b[1;32m----> 1\u001b[1;33m \u001b[1;32mimport\u001b[0m \u001b[0mxgboost\u001b[0m \u001b[1;32mas\u001b[0m \u001b[0mxgb\u001b[0m\u001b[1;33m\u001b[0m\u001b[1;33m\u001b[0m\u001b[0m\n\u001b[0m\u001b[0;32m      2\u001b[0m \u001b[0mxg_reg\u001b[0m \u001b[1;33m=\u001b[0m \u001b[0mxgb\u001b[0m\u001b[1;33m.\u001b[0m\u001b[0mXGBRegressor\u001b[0m\u001b[1;33m(\u001b[0m\u001b[1;33m)\u001b[0m\u001b[1;33m\u001b[0m\u001b[1;33m\u001b[0m\u001b[0m\n\u001b[0;32m      3\u001b[0m \u001b[0mxg_reg\u001b[0m\u001b[1;33m.\u001b[0m\u001b[0mfit\u001b[0m\u001b[1;33m(\u001b[0m\u001b[0mX_train\u001b[0m\u001b[1;33m,\u001b[0m\u001b[0my_train\u001b[0m\u001b[1;33m)\u001b[0m\u001b[1;33m\u001b[0m\u001b[1;33m\u001b[0m\u001b[0m\n",
            "\u001b[1;31mModuleNotFoundError\u001b[0m: No module named 'xgboost'"
          ]
        }
      ],
      "source": [
        "import xgboost as xgb\n",
        "xg_reg = xgb.XGBRegressor()\n",
        "xg_reg.fit(X_train,y_train)"
      ]
    },
    {
      "cell_type": "code",
      "execution_count": 62,
      "metadata": {
        "colab": {
          "base_uri": "https://localhost:8080/"
        },
        "id": "qukcfLB5OAdR",
        "outputId": "e3ad2bd8-ed1a-45ba-93ed-7ac2c36d1f86"
      },
      "outputs": [
        {
          "data": {
            "text/plain": [
              "0.35491105967027303"
            ]
          },
          "execution_count": 62,
          "metadata": {},
          "output_type": "execute_result"
        }
      ],
      "source": [
        "xg_reg.score(X_test,y_test)"
      ]
    },
    {
      "cell_type": "code",
      "execution_count": 15,
      "metadata": {
        "colab": {
          "base_uri": "https://localhost:8080/"
        },
        "id": "erHWF6RuOGo-",
        "outputId": "370c8d85-d0fd-4e6b-b69d-9626a324cbbb"
      },
      "outputs": [
        {
          "name": "stdout",
          "output_type": "stream",
          "text": [
            "Requirement already satisfied: flask-ngrok in c:\\users\\aditya\\appdata\\local\\programs\\python\\python36-32\\lib\\site-packages (0.0.25)\n",
            "Requirement already satisfied: Flask>=0.8 in c:\\users\\aditya\\appdata\\local\\programs\\python\\python36-32\\lib\\site-packages (from flask-ngrok) (1.1.2)\n",
            "Requirement already satisfied: requests in c:\\users\\aditya\\appdata\\local\\programs\\python\\python36-32\\lib\\site-packages (from flask-ngrok) (2.25.1)\n",
            "Requirement already satisfied: Jinja2>=2.10.1 in c:\\users\\aditya\\appdata\\local\\programs\\python\\python36-32\\lib\\site-packages (from Flask>=0.8->flask-ngrok) (3.0.1)\n",
            "Requirement already satisfied: Werkzeug>=0.15 in c:\\users\\aditya\\appdata\\local\\programs\\python\\python36-32\\lib\\site-packages (from Flask>=0.8->flask-ngrok) (2.0.1)\n",
            "Requirement already satisfied: click>=5.1 in c:\\users\\aditya\\appdata\\local\\programs\\python\\python36-32\\lib\\site-packages (from Flask>=0.8->flask-ngrok) (8.0.1)\n",
            "Requirement already satisfied: itsdangerous>=0.24 in c:\\users\\aditya\\appdata\\local\\programs\\python\\python36-32\\lib\\site-packages (from Flask>=0.8->flask-ngrok) (2.0.1)\n",
            "Requirement already satisfied: colorama in c:\\users\\aditya\\appdata\\local\\programs\\python\\python36-32\\lib\\site-packages (from click>=5.1->Flask>=0.8->flask-ngrok) (0.4.4)\n",
            "Requirement already satisfied: importlib-metadata in c:\\users\\aditya\\appdata\\local\\programs\\python\\python36-32\\lib\\site-packages (from click>=5.1->Flask>=0.8->flask-ngrok) (4.6.0)\n",
            "Requirement already satisfied: MarkupSafe>=2.0 in c:\\users\\aditya\\appdata\\local\\programs\\python\\python36-32\\lib\\site-packages (from Jinja2>=2.10.1->Flask>=0.8->flask-ngrok) (2.0.1)\n",
            "Requirement already satisfied: dataclasses in c:\\users\\aditya\\appdata\\local\\programs\\python\\python36-32\\lib\\site-packages (from Werkzeug>=0.15->Flask>=0.8->flask-ngrok) (0.8)\n",
            "Requirement already satisfied: zipp>=0.5 in c:\\users\\aditya\\appdata\\local\\programs\\python\\python36-32\\lib\\site-packages (from importlib-metadata->click>=5.1->Flask>=0.8->flask-ngrok) (3.5.0)\n",
            "Requirement already satisfied: typing-extensions>=3.6.4 in c:\\users\\aditya\\appdata\\local\\programs\\python\\python36-32\\lib\\site-packages (from importlib-metadata->click>=5.1->Flask>=0.8->flask-ngrok) (3.10.0.0)\n",
            "Requirement already satisfied: idna<3,>=2.5 in c:\\users\\aditya\\appdata\\local\\programs\\python\\python36-32\\lib\\site-packages (from requests->flask-ngrok) (2.10)\n",
            "Requirement already satisfied: certifi>=2017.4.17 in c:\\users\\aditya\\appdata\\local\\programs\\python\\python36-32\\lib\\site-packages (from requests->flask-ngrok) (2021.5.30)\n",
            "Requirement already satisfied: urllib3<1.27,>=1.21.1 in c:\\users\\aditya\\appdata\\local\\programs\\python\\python36-32\\lib\\site-packages (from requests->flask-ngrok) (1.26.6)\n",
            "Requirement already satisfied: chardet<5,>=3.0.2 in c:\\users\\aditya\\appdata\\local\\programs\\python\\python36-32\\lib\\site-packages (from requests->flask-ngrok) (4.0.0)\n",
            "Note: you may need to restart the kernel to use updated packages.\n"
          ]
        },
        {
          "name": "stderr",
          "output_type": "stream",
          "text": [
            "WARNING: You are using pip version 21.2.3; however, version 21.3.1 is available.\n",
            "You should consider upgrading via the 'C:\\Users\\Aditya\\AppData\\Local\\Programs\\Python\\Python36-32\\python.exe -m pip install --upgrade pip' command.\n"
          ]
        }
      ],
      "source": [
        "pip install flask-ngrok"
      ]
    },
    {
      "cell_type": "code",
      "execution_count": 17,
      "metadata": {
        "id": "X99KW80TOWSv"
      },
      "outputs": [],
      "source": [
        "y_pred = log_model.predict(X_test)"
      ]
    },
    {
      "cell_type": "code",
      "execution_count": 64,
      "metadata": {
        "id": "1fvxWXsMRMum"
      },
      "outputs": [],
      "source": []
    },
    {
      "cell_type": "code",
      "execution_count": 14,
      "metadata": {
        "colab": {
          "base_uri": "https://localhost:8080/"
        },
        "id": "h-5b0XUmOf33",
        "outputId": "d81d0ec3-f67e-4e2e-dc18-af64df725d81"
      },
      "outputs": [
        {
          "name": "stdout",
          "output_type": "stream",
          "text": [
            " * Serving Flask app \"__main__\" (lazy loading)\n",
            " * Environment: production\n",
            "\u001b[31m   WARNING: This is a development server. Do not use it in a production deployment.\u001b[0m\n",
            "\u001b[2m   Use a production WSGI server instead.\u001b[0m\n",
            " * Debug mode: off\n"
          ]
        },
        {
          "name": "stderr",
          "output_type": "stream",
          "text": [
            " * Running on http://127.0.0.1:5000/ (Press CTRL+C to quit)\n"
          ]
        },
        {
          "name": "stdout",
          "output_type": "stream",
          "text": [
            " * Running on http://8a96-103-108-4-93.ngrok.io\n",
            " * Traffic stats available on http://127.0.0.1:4040\n"
          ]
        },
        {
          "name": "stderr",
          "output_type": "stream",
          "text": [
            "127.0.0.1 - - [14/Jan/2022 17:54:29] \"GET /1/85/66/29/0/26.6/0.351/31/0 HTTP/1.1\" 404 -\n",
            "127.0.0.1 - - [14/Jan/2022 17:54:46] \"GET /6/148/72/35/0/33.6/0.627/50 HTTP/1.1\" 200 -\n",
            "127.0.0.1 - - [14/Jan/2022 17:55:13] \"GET /1/85/66/29/0/26.6/0.351/31 HTTP/1.1\" 200 -\n"
          ]
        }
      ],
      "source": [
        "from flask_ngrok import run_with_ngrok\n",
        "from flask import Flask\n",
        "app = Flask(__name__)\n",
        "run_with_ngrok(app) #starts ngrok when the app is run\n",
        "@app.route(\"/<int:p>/<int:g>/<int:bp>/<int:s>/<int:i>/<float:bmi>/<float:d>/<int:age>\")\n",
        "def home(p,g,bp,s,i,bmi,d,age):\n",
        "  return str(gnb.predict([[p,g,bp,s,i,bmi,d,age]]))\n",
        "\n",
        "app.run()\n"
      ]
    },
    {
      "cell_type": "code",
      "execution_count": null,
      "metadata": {
        "id": "VLGLpF60P84q"
      },
      "outputs": [],
      "source": []
    }
  ],
  "metadata": {
    "colab": {
      "name": "Diabetes.ipynb",
      "provenance": []
    },
    "kernelspec": {
      "display_name": "Python 3",
      "name": "python3"
    },
    "language_info": {
      "codemirror_mode": {
        "name": "ipython",
        "version": 3
      },
      "file_extension": ".py",
      "mimetype": "text/x-python",
      "name": "python",
      "nbconvert_exporter": "python",
      "pygments_lexer": "ipython3",
      "version": "3.6.8"
    }
  },
  "nbformat": 4,
  "nbformat_minor": 0
}
